{
 "cells": [
  {
   "cell_type": "code",
   "execution_count": 1,
   "metadata": {},
   "outputs": [],
   "source": [
    "import torchvision\n",
    "import torch\n",
    "import torchvision.transforms as transforms\n",
    "import torch.nn as nn\n",
    "import matplotlib.pyplot as plt"
   ]
  },
  {
   "cell_type": "markdown",
   "metadata": {},
   "source": [
    "Training a simple MLP"
   ]
  },
  {
   "cell_type": "code",
   "execution_count": 2,
   "metadata": {},
   "outputs": [],
   "source": [
    "class MLP(nn.Module):\n",
    "    def __init__(self, input_size, hidden_size, num_classes):\n",
    "        super(MLP, self).__init__()\n",
    "        self.fc1 = nn.Linear(input_size, hidden_size)\n",
    "        self.relu = nn.ReLU()\n",
    "        self.fc2 = nn.Linear(hidden_size, num_classes)\n",
    "\n",
    "    def forward(self, x):\n",
    "        x = self.fc1(x)\n",
    "        x = self.relu(x)\n",
    "        x = self.fc2(x)\n",
    "        return x"
   ]
  },
  {
   "cell_type": "markdown",
   "metadata": {},
   "source": [
    "Dataset"
   ]
  },
  {
   "cell_type": "code",
   "execution_count": 3,
   "metadata": {},
   "outputs": [],
   "source": [
    "# MNIST dataset\n",
    "\n",
    "\n",
    "train_dataset = torchvision.datasets.MNIST(\n",
    "    root=\"../../data/\", train=True, transform=transforms.ToTensor(), download=True\n",
    ")\n",
    "\n",
    "test_dataset = torchvision.datasets.MNIST(\n",
    "    root=\"../../data/\", train=False, transform=transforms.ToTensor()\n",
    ")"
   ]
  },
  {
   "cell_type": "code",
   "execution_count": 4,
   "metadata": {},
   "outputs": [
    {
     "data": {
      "text/plain": [
       "(60000, 10000)"
      ]
     },
     "execution_count": 4,
     "metadata": {},
     "output_type": "execute_result"
    }
   ],
   "source": [
    "len(train_dataset), len(test_dataset)"
   ]
  },
  {
   "cell_type": "code",
   "execution_count": 5,
   "metadata": {},
   "outputs": [],
   "source": [
    "# manipulating train_dataset and test_dataset so that the problem becomes a 3 vs not 3 problem\n",
    "\n",
    "train_dataset.targets[train_dataset.targets != 3] = 0\n",
    "train_dataset.targets[train_dataset.targets == 3] = 1\n",
    "test_dataset.targets[test_dataset.targets != 3] = 0\n",
    "test_dataset.targets[test_dataset.targets == 3] = 1"
   ]
  },
  {
   "cell_type": "code",
   "execution_count": 6,
   "metadata": {},
   "outputs": [
    {
     "name": "stderr",
     "output_type": "stream",
     "text": [
      "/tmp/ipykernel_10373/1759765500.py:3: MatplotlibDeprecationWarning: Auto-removal of overlapping axes is deprecated since 3.6 and will be removed two minor releases later; explicitly call ax.remove() as needed.\n",
      "  plt.subplot(3,3,i+1)\n"
     ]
    },
    {
     "data": {
      "image/png": "[encoded data removed]",
      "text/plain": [
       "<Figure size 640x480 with 8 Axes>"
      ]
     },
     "metadata": {},
     "output_type": "display_data"
    }
   ],
   "source": [
    "# Some images from train dataset\n",
    "for i in range(9):\n",
    "    plt.subplot(3, 3, i + 1)\n",
    "    plt.imshow(train_dataset.data[i + 10], cmap=\"gray\", interpolation=\"none\")\n",
    "    plt.title(\"Class {}\".format(train_dataset.targets[i + 10]))\n",
    "    plt.tight_layout()"
   ]
  },
  {
   "cell_type": "code",
   "execution_count": 12,
   "metadata": {},
   "outputs": [],
   "source": [
    "# Data loader\n",
    "\n",
    "batch_size = 32\n",
    "\n",
    "train_loader = torch.utils.data.DataLoader(\n",
    "    dataset=train_dataset, batch_size=batch_size, shuffle=True\n",
    ")\n",
    "\n",
    "test_loader = torch.utils.data.DataLoader(\n",
    "    dataset=test_dataset, batch_size=batch_size, shuffle=False\n",
    ")"
   ]
  },
  {
   "cell_type": "markdown",
   "metadata": {},
   "source": [
    "Model Training"
   ]
  },
  {
   "cell_type": "code",
   "execution_count": 13,
   "metadata": {},
   "outputs": [],
   "source": [
    "# Hyperparameters\n",
    "num_epochs = 5\n",
    "learning_rate = 0.001\n",
    "\n",
    "\n",
    "device = torch.device(\"cuda:0\" if torch.cuda.is_available() else \"cpu\")\n",
    "model = MLP(784, 500, 2)\n",
    "model.to(device)\n",
    "\n",
    "\n",
    "criterion = nn.CrossEntropyLoss()\n",
    "optimizer = torch.optim.Adam(model.parameters(), lr=learning_rate)"
   ]
  },
  {
   "cell_type": "code",
   "execution_count": 14,
   "metadata": {},
   "outputs": [
    {
     "name": "stdout",
     "output_type": "stream",
     "text": [
      "Epoch [1/5], Step [100/1875], Loss: 0.0797\n",
      "Epoch [1/5], Step [200/1875], Loss: 0.1159\n",
      "Epoch [1/5], Step [300/1875], Loss: 0.0255\n",
      "Epoch [1/5], Step [400/1875], Loss: 0.0152\n",
      "Epoch [1/5], Step [500/1875], Loss: 0.0368\n",
      "Epoch [1/5], Step [600/1875], Loss: 0.0094\n",
      "Epoch [1/5], Step [700/1875], Loss: 0.0130\n",
      "Epoch [1/5], Step [800/1875], Loss: 0.0606\n",
      "Epoch [1/5], Step [900/1875], Loss: 0.0117\n",
      "Epoch [1/5], Step [1000/1875], Loss: 0.0099\n",
      "Epoch [1/5], Step [1100/1875], Loss: 0.0068\n",
      "Epoch [1/5], Step [1200/1875], Loss: 0.0132\n",
      "Epoch [1/5], Step [1300/1875], Loss: 0.0128\n",
      "Epoch [1/5], Step [1400/1875], Loss: 0.0721\n",
      "Epoch [1/5], Step [1500/1875], Loss: 0.0138\n",
      "Epoch [1/5], Step [1600/1875], Loss: 0.0023\n",
      "Epoch [1/5], Step [1700/1875], Loss: 0.0744\n",
      "Epoch [1/5], Step [1800/1875], Loss: 0.0039\n",
      "Epoch [2/5], Step [100/1875], Loss: 0.0046\n",
      "Epoch [2/5], Step [200/1875], Loss: 0.0710\n",
      "Epoch [2/5], Step [300/1875], Loss: 0.0057\n",
      "Epoch [2/5], Step [400/1875], Loss: 0.0128\n",
      "Epoch [2/5], Step [500/1875], Loss: 0.0391\n",
      "Epoch [2/5], Step [600/1875], Loss: 0.0278\n",
      "Epoch [2/5], Step [700/1875], Loss: 0.0148\n",
      "Epoch [2/5], Step [800/1875], Loss: 0.0041\n",
      "Epoch [2/5], Step [900/1875], Loss: 0.0021\n",
      "Epoch [2/5], Step [1000/1875], Loss: 0.0075\n",
      "Epoch [2/5], Step [1100/1875], Loss: 0.0012\n",
      "Epoch [2/5], Step [1200/1875], Loss: 0.0271\n",
      "Epoch [2/5], Step [1300/1875], Loss: 0.0106\n",
      "Epoch [2/5], Step [1400/1875], Loss: 0.0042\n",
      "Epoch [2/5], Step [1500/1875], Loss: 0.1039\n",
      "Epoch [2/5], Step [1600/1875], Loss: 0.0039\n",
      "Epoch [2/5], Step [1700/1875], Loss: 0.0039\n",
      "Epoch [2/5], Step [1800/1875], Loss: 0.1497\n",
      "Epoch [3/5], Step [100/1875], Loss: 0.0021\n",
      "Epoch [3/5], Step [200/1875], Loss: 0.0030\n",
      "Epoch [3/5], Step [300/1875], Loss: 0.0061\n",
      "Epoch [3/5], Step [400/1875], Loss: 0.0131\n",
      "Epoch [3/5], Step [500/1875], Loss: 0.0153\n",
      "Epoch [3/5], Step [600/1875], Loss: 0.0115\n",
      "Epoch [3/5], Step [700/1875], Loss: 0.0064\n",
      "Epoch [3/5], Step [800/1875], Loss: 0.0017\n",
      "Epoch [3/5], Step [900/1875], Loss: 0.0022\n",
      "Epoch [3/5], Step [1000/1875], Loss: 0.0122\n",
      "Epoch [3/5], Step [1100/1875], Loss: 0.0002\n",
      "Epoch [3/5], Step [1200/1875], Loss: 0.0017\n",
      "Epoch [3/5], Step [1300/1875], Loss: 0.0028\n",
      "Epoch [3/5], Step [1400/1875], Loss: 0.0022\n",
      "Epoch [3/5], Step [1500/1875], Loss: 0.0020\n",
      "Epoch [3/5], Step [1600/1875], Loss: 0.0003\n",
      "Epoch [3/5], Step [1700/1875], Loss: 0.0098\n",
      "Epoch [3/5], Step [1800/1875], Loss: 0.0253\n",
      "Epoch [4/5], Step [100/1875], Loss: 0.0286\n",
      "Epoch [4/5], Step [200/1875], Loss: 0.0059\n",
      "Epoch [4/5], Step [300/1875], Loss: 0.0076\n",
      "Epoch [4/5], Step [400/1875], Loss: 0.0162\n",
      "Epoch [4/5], Step [500/1875], Loss: 0.0017\n",
      "Epoch [4/5], Step [600/1875], Loss: 0.0003\n",
      "Epoch [4/5], Step [700/1875], Loss: 0.0001\n",
      "Epoch [4/5], Step [800/1875], Loss: 0.0018\n",
      "Epoch [4/5], Step [900/1875], Loss: 0.0002\n",
      "Epoch [4/5], Step [1000/1875], Loss: 0.0005\n",
      "Epoch [4/5], Step [1100/1875], Loss: 0.0006\n",
      "Epoch [4/5], Step [1200/1875], Loss: 0.0027\n",
      "Epoch [4/5], Step [1300/1875], Loss: 0.0028\n",
      "Epoch [4/5], Step [1400/1875], Loss: 0.0608\n",
      "Epoch [4/5], Step [1500/1875], Loss: 0.0003\n",
      "Epoch [4/5], Step [1600/1875], Loss: 0.0002\n",
      "Epoch [4/5], Step [1700/1875], Loss: 0.0037\n",
      "Epoch [4/5], Step [1800/1875], Loss: 0.0003\n",
      "Epoch [5/5], Step [100/1875], Loss: 0.0219\n",
      "Epoch [5/5], Step [200/1875], Loss: 0.0003\n",
      "Epoch [5/5], Step [300/1875], Loss: 0.0045\n",
      "Epoch [5/5], Step [400/1875], Loss: 0.0010\n",
      "Epoch [5/5], Step [500/1875], Loss: 0.0000\n",
      "Epoch [5/5], Step [600/1875], Loss: 0.0617\n",
      "Epoch [5/5], Step [700/1875], Loss: 0.0005\n",
      "Epoch [5/5], Step [800/1875], Loss: 0.0001\n",
      "Epoch [5/5], Step [900/1875], Loss: 0.0010\n",
      "Epoch [5/5], Step [1000/1875], Loss: 0.0004\n",
      "Epoch [5/5], Step [1100/1875], Loss: 0.0000\n",
      "Epoch [5/5], Step [1200/1875], Loss: 0.0018\n",
      "Epoch [5/5], Step [1300/1875], Loss: 0.0236\n",
      "Epoch [5/5], Step [1400/1875], Loss: 0.0000\n",
      "Epoch [5/5], Step [1500/1875], Loss: 0.0087\n",
      "Epoch [5/5], Step [1600/1875], Loss: 0.0027\n",
      "Epoch [5/5], Step [1700/1875], Loss: 0.0011\n",
      "Epoch [5/5], Step [1800/1875], Loss: 0.0005\n"
     ]
    }
   ],
   "source": [
    "# Training loop\n",
    "\n",
    "for epoch in range(num_epochs):\n",
    "    for i, (images, labels) in enumerate(train_loader):\n",
    "        images = images.reshape(-1, 28 * 28).to(device)\n",
    "        labels = labels.to(device)\n",
    "        outputs = model(images)\n",
    "        loss = criterion(outputs, labels)\n",
    "        optimizer.zero_grad()\n",
    "        loss.backward()\n",
    "        optimizer.step()\n",
    "\n",
    "        if (i + 1) % 100 == 0:\n",
    "            print(\n",
    "                \"Epoch [{}/{}], Step [{}/{}], Loss: {:.4f}\".format(\n",
    "                    epoch + 1, num_epochs, i + 1, len(train_loader), loss.item()\n",
    "                )\n",
    "            )"
   ]
  },
  {
   "cell_type": "code",
   "execution_count": 15,
   "metadata": {},
   "outputs": [
    {
     "name": "stdout",
     "output_type": "stream",
     "text": [
      "Accuracy: 99.49 %\n"
     ]
    }
   ],
   "source": [
    "model.eval()\n",
    "with torch.no_grad():\n",
    "    correct = 0\n",
    "    total = 0\n",
    "    for images, labels in test_loader:\n",
    "        images = images.reshape(-1, 28 * 28).to(device)\n",
    "        labels = labels.to(device)\n",
    "        outputs = model(images)\n",
    "        _, predicted = torch.max(outputs.data, 1)\n",
    "        total += labels.size(0)\n",
    "        correct += (predicted == labels).sum().item()\n",
    "\n",
    "    print(\"Accuracy: {} %\".format(100 * correct / total))"
   ]
  }
 ],
 "metadata": {
  "kernelspec": {
   "display_name": "Python 3",
   "language": "python",
   "name": "python3"
  },
  "language_info": {
   "codemirror_mode": {
    "name": "ipython",
    "version": 3
   },
   "file_extension": ".py",
   "mimetype": "text/x-python",
   "name": "python",
   "nbconvert_exporter": "python",
   "pygments_lexer": "ipython3",
   "version": "3.8.10"
  }
 },
 "nbformat": 4,
 "nbformat_minor": 2
}
